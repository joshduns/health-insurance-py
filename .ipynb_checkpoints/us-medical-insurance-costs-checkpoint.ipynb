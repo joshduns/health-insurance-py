{
 "cells": [
  {
   "cell_type": "markdown",
   "metadata": {},
   "source": [
    "# U.S. Medical Insurance Costs"
   ]
  },
  {
   "cell_type": "markdown",
   "metadata": {},
   "source": [
    "## Read in the data to dict_rows from insurance.csv"
   ]
  },
  {
   "cell_type": "code",
   "execution_count": 1,
   "metadata": {},
   "outputs": [],
   "source": [
    "import csv\n",
    "from statistics import mode\n",
    "\n",
    "ages = []\n",
    "smokers = 0\n",
    "children_smokers = []\n",
    "children_nonsmokers = []\n",
    "nw_bmi = []\n",
    "sw_bmi = []\n",
    "ne_bmi = []\n",
    "se_bmi = []\n",
    "nw_children = []\n",
    "sw_children = []\n",
    "ne_children = []\n",
    "se_children = []\n",
    "with open('insurance.csv') as f:\n",
    "    dict_rows = csv.DictReader(f)\n",
    "    for row in dict_rows:\n",
    "        age = row['age']\n",
    "        if age:\n",
    "            ages.append(int(age))\n",
    "            \n",
    "        if row['smoker'] == 'yes':\n",
    "            smokers += 1\n",
    "            children_smokers.append(int(row['children']))\n",
    "        else:\n",
    "            children_nonsmokers.append(int(row['children']))\n",
    "            \n",
    "        if row['region'] == 'northwest':\n",
    "            nw_bmi.append(float(row['bmi']))\n",
    "            nw_children.append(int(row['children']))\n",
    "        elif row['region'] == 'northeast':\n",
    "            ne_bmi.append(float(row['bmi']))\n",
    "            ne_children.append(int(row['children']))\n",
    "        elif row['region'] == 'southeast':\n",
    "            se_bmi.append(float(row['bmi']))\n",
    "            se_children.append(int(row['children']))\n",
    "        elif row['region'] == 'southwest':\n",
    "            sw_bmi.append(float(row['bmi']))\n",
    "            sw_children.append(int(row['children']))"
   ]
  },
  {
   "cell_type": "markdown",
   "metadata": {},
   "source": [
    "## Find the mean, median, mode of the ages contained in the data"
   ]
  },
  {
   "cell_type": "code",
   "execution_count": 2,
   "metadata": {},
   "outputs": [
    {
     "name": "stdout",
     "output_type": "stream",
     "text": [
      "Mean Age: 39.20702541106129\n",
      "Median Age: 39.0\n",
      "Mode Age: 18\n"
     ]
    }
   ],
   "source": [
    "ages.sort()\n",
    "n = len(ages)\n",
    "\n",
    "# Mean\n",
    "avg_age = sum(ages)/n\n",
    "\n",
    "# Median\n",
    "if n % 2 == 0:\n",
    "    upper_idx = int(n/2)\n",
    "    lower_idx = int((n/2) - 1) \n",
    "    m1 = ages[upper_idx]\n",
    "    m2 = ages[lower_idx]\n",
    "    median = (m1 + m2) / 2\n",
    "else:\n",
    "    median = ages[n/2]\n",
    "    \n",
    "# Mode\n",
    "mode = mode(ages)\n",
    "\n",
    "print('Mean Age: {}'.format(str(avg_age)))\n",
    "print('Median Age: {}'.format(str(median)))\n",
    "print('Mode Age: {}'.format(str(mode)))\n"
   ]
  },
  {
   "cell_type": "markdown",
   "metadata": {},
   "source": [
    "## Calculate avg number of children of smokers vs. non-smokers"
   ]
  },
  {
   "cell_type": "code",
   "execution_count": 3,
   "metadata": {},
   "outputs": [
    {
     "name": "stdout",
     "output_type": "stream",
     "text": [
      "20.47832585949178% are smokers\n",
      "Average children for smokers: 1.1131386861313868\n",
      "Average children for non-smokers: 1.0902255639097744\n"
     ]
    }
   ],
   "source": [
    "print('{}% are smokers'.format(str(smokers/n * 100)))\n",
    "smokers_avg_children = sum(children_smokers) / len(children_smokers)\n",
    "nonsmokers_avg_children = sum(children_nonsmokers) / len(children_nonsmokers)\n",
    "print('Average children for smokers: {}'.format(str(smokers_avg_children,)))\n",
    "print('Average children for non-smokers: {}'.format(str(nonsmokers_avg_children)))"
   ]
  },
  {
   "cell_type": "markdown",
   "metadata": {},
   "source": [
    "## Calculate BMI's by region"
   ]
  },
  {
   "cell_type": "code",
   "execution_count": 4,
   "metadata": {},
   "outputs": [
    {
     "name": "stdout",
     "output_type": "stream",
     "text": [
      "Average BMI by region:\n",
      "NW Avg BMI: 29.199784615384626\n",
      "NE Avg BMI: 29.17350308641976\n",
      "SW Avg BMI: 30.59661538461538\n",
      "SE Avg BMI: 33.35598901098903\n"
     ]
    }
   ],
   "source": [
    "print('Average BMI by region:')\n",
    "nw_avg = sum(nw_bmi) / len(nw_bmi)\n",
    "ne_avg = sum(ne_bmi) / len(ne_bmi)\n",
    "sw_avg = sum(sw_bmi) / len(sw_bmi)\n",
    "se_avg = sum(se_bmi) / len(se_bmi)\n",
    "print('NW Avg BMI: {}'.format(str(nw_avg)))\n",
    "print('NE Avg BMI: {}'.format(str(ne_avg)))\n",
    "print('SW Avg BMI: {}'.format(str(sw_avg)))\n",
    "print('SE Avg BMI: {}'.format(str(se_avg)))"
   ]
  },
  {
   "cell_type": "markdown",
   "metadata": {},
   "source": [
    "## Average number of children by region"
   ]
  },
  {
   "cell_type": "code",
   "execution_count": 5,
   "metadata": {},
   "outputs": [
    {
     "name": "stdout",
     "output_type": "stream",
     "text": [
      "NW Avg Children: 1.1476923076923078\n",
      "NE Avg Children: 1.0462962962962963\n",
      "SW Avg Children: 1.1415384615384616\n",
      "SE Avg Children: 1.0494505494505495\n"
     ]
    }
   ],
   "source": [
    "nw_child_avg = sum(nw_children) / len(nw_children)\n",
    "ne_child_avg = sum(ne_children) / len(ne_children)\n",
    "sw_child_avg = sum(sw_children) / len(sw_children)\n",
    "se_child_avg = sum(se_children) / len(se_children)\n",
    "print('NW Avg Children: {}'.format(str(nw_child_avg)))\n",
    "print('NE Avg Children: {}'.format(str(ne_child_avg)))\n",
    "print('SW Avg Children: {}'.format(str(sw_child_avg)))\n",
    "print('SE Avg Children: {}'.format(str(se_child_avg)))"
   ]
  }
 ],
 "metadata": {
  "kernelspec": {
   "display_name": "Python 3",
   "language": "python",
   "name": "python3"
  },
  "language_info": {
   "codemirror_mode": {
    "name": "ipython",
    "version": 3
   },
   "file_extension": ".py",
   "mimetype": "text/x-python",
   "name": "python",
   "nbconvert_exporter": "python",
   "pygments_lexer": "ipython3",
   "version": "3.8.5"
  }
 },
 "nbformat": 4,
 "nbformat_minor": 4
}
